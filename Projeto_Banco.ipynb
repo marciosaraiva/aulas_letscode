{
 "cells": [
  {
   "cell_type": "code",
   "execution_count": 1,
   "metadata": {},
   "outputs": [],
   "source": [
    "import money\n",
    "import random"
   ]
  },
  {
   "cell_type": "code",
   "execution_count": 2,
   "metadata": {},
   "outputs": [],
   "source": [
    "# CPF valido 113.451.253-80\n",
    "# CPF invalido 313.541.102-74"
   ]
  },
  {
   "cell_type": "code",
   "execution_count": 3,
   "metadata": {},
   "outputs": [
    {
     "name": "stdout",
     "output_type": "stream",
     "text": [
      "Digite seu nome: Pedro\n",
      "Digite seu cpf: 113.451.253-80\n"
     ]
    }
   ],
   "source": [
    "nome = input(\"Digite seu nome: \")\n",
    "\n",
    "cpf = input(\"Digite seu cpf: \")\n",
    "\n",
    "while money.verifica_cpf(cpf)==False:\n",
    "    cpf = input(\"Erro! Digite seu cpf: \")"
   ]
  },
  {
   "cell_type": "code",
   "execution_count": 4,
   "metadata": {},
   "outputs": [
    {
     "name": "stdout",
     "output_type": "stream",
     "text": [
      "Quanto vc vai depositar? 762\n"
     ]
    }
   ],
   "source": [
    "dinheiro = int(input(\"Quanto vc vai depositar? \"))\n",
    "money.quantidade_de_notas_arquivo(nome, dinheiro)               "
   ]
  }
 ],
 "metadata": {
  "kernelspec": {
   "display_name": "Python 3",
   "language": "python",
   "name": "python3"
  },
  "language_info": {
   "codemirror_mode": {
    "name": "ipython",
    "version": 3
   },
   "file_extension": ".py",
   "mimetype": "text/x-python",
   "name": "python",
   "nbconvert_exporter": "python",
   "pygments_lexer": "ipython3",
   "version": "3.6.9"
  }
 },
 "nbformat": 4,
 "nbformat_minor": 2
}
